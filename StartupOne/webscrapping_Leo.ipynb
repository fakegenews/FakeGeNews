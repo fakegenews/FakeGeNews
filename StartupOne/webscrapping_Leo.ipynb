{
 "cells": [
  {
   "cell_type": "code",
   "execution_count": 1,
   "metadata": {
    "colab": {
     "base_uri": "https://localhost:8080/",
     "height": 138
    },
    "colab_type": "code",
    "id": "auMlScXj8ZeO",
    "outputId": "ea4c28d1-4a4f-441e-874d-e07016301eb8"
   },
   "outputs": [],
   "source": [
    "#!pip install requests2\n",
    "#!pip install beautifulsoup4\n",
    "#!pip install selenium"
   ]
  },
  {
   "cell_type": "code",
   "execution_count": 2,
   "metadata": {
    "colab": {},
    "colab_type": "code",
    "id": "SQ6XJOt38Dio"
   },
   "outputs": [],
   "source": [
    "#import time\n",
    "import requests\n",
    "import pandas as pd\n",
    "from pandas.io.json import json_normalize\n",
    "import numpy as np\n",
    "from bs4 import BeautifulSoup\n",
    "import json\n",
    "import urllib.parse"
   ]
  },
  {
   "cell_type": "code",
   "execution_count": 3,
   "metadata": {},
   "outputs": [],
   "source": [
    "url = 'https://newsapi.org/v2/everything?'\n",
    "api_key = '126614c036da4f5ba425e28b9b04b12b'\n",
    "busca = 'bolsonaro'"
   ]
  },
  {
   "cell_type": "code",
   "execution_count": 4,
   "metadata": {},
   "outputs": [],
   "source": [
    "keywords = [\"bolsonaro\", \"facada\"]\n",
    "\n",
    "parametros = {\n",
    "    'q' : ' AND '.join(keywords),\n",
    "    'pageSize' : 6,\n",
    "    'apiKey' : api_key,\n",
    "    'language' : 'pt'\n",
    "}"
   ]
  },
  {
   "cell_type": "code",
   "execution_count": 5,
   "metadata": {},
   "outputs": [
    {
     "name": "stdout",
     "output_type": "stream",
     "text": [
      "<Response [200]>\n"
     ]
    }
   ],
   "source": [
    "#chamando a news api\n",
    "resp = requests.get(url, params = parametros)\n",
    "print(resp)\n",
    "resp_json = resp.json()\n",
    "\n",
    "#resp_json"
   ]
  },
  {
   "cell_type": "code",
   "execution_count": 6,
   "metadata": {},
   "outputs": [
    {
     "name": "stdout",
     "output_type": "stream",
     "text": [
      "dict_keys(['status', 'totalResults', 'articles'])\n"
     ]
    },
    {
     "data": {
      "text/plain": [
       "6"
      ]
     },
     "execution_count": 6,
     "metadata": {},
     "output_type": "execute_result"
    }
   ],
   "source": [
    "#pegando a parte da resposta que interessa\n",
    "print(resp_json.keys())\n",
    "resp_articles = resp_json['articles']\n",
    "len(resp_articles)"
   ]
  },
  {
   "cell_type": "code",
   "execution_count": 7,
   "metadata": {},
   "outputs": [
    {
     "data": {
      "text/html": [
       "<div>\n",
       "<style scoped>\n",
       "    .dataframe tbody tr th:only-of-type {\n",
       "        vertical-align: middle;\n",
       "    }\n",
       "\n",
       "    .dataframe tbody tr th {\n",
       "        vertical-align: top;\n",
       "    }\n",
       "\n",
       "    .dataframe thead th {\n",
       "        text-align: right;\n",
       "    }\n",
       "</style>\n",
       "<table border=\"1\" class=\"dataframe\">\n",
       "  <thead>\n",
       "    <tr style=\"text-align: right;\">\n",
       "      <th></th>\n",
       "      <th>author</th>\n",
       "      <th>title</th>\n",
       "      <th>description</th>\n",
       "      <th>url</th>\n",
       "      <th>urlToImage</th>\n",
       "      <th>publishedAt</th>\n",
       "      <th>content</th>\n",
       "      <th>source.id</th>\n",
       "      <th>source.name</th>\n",
       "    </tr>\n",
       "  </thead>\n",
       "  <tbody>\n",
       "    <tr>\n",
       "      <th>0</th>\n",
       "      <td>Fábio Py</td>\n",
       "      <td>Cristofascismo em 7 atos: como Bolsonaro usou ...</td>\n",
       "      <td>Em plena Páscoa, Bolsonaro desenvolveu uma con...</td>\n",
       "      <td>https://theintercept.com/2020/05/01/cristofasc...</td>\n",
       "      <td>https://theintercept.com/wp-uploads/sites/1/20...</td>\n",
       "      <td>2020-05-01T04:03:49Z</td>\n",
       "      <td>Foto: Andressa Anholete/Getty Images\\r\\nAo per...</td>\n",
       "      <td>None</td>\n",
       "      <td>Theintercept.com</td>\n",
       "    </tr>\n",
       "    <tr>\n",
       "      <th>1</th>\n",
       "      <td>https://www.facebook.com/bbcnews</td>\n",
       "      <td>'E daí?': quem é Alexandre Ramagem, o amigo da...</td>\n",
       "      <td>Delegado federal, que dirigia Agência Brasilei...</td>\n",
       "      <td>https://www.bbc.com/portuguese/brasil-52453022</td>\n",
       "      <td>https://ichef.bbci.co.uk/news/1024/branded_por...</td>\n",
       "      <td>2020-04-28T10:45:33Z</td>\n",
       "      <td>Direito de imagemCarolina Antunes/PRImage capt...</td>\n",
       "      <td>None</td>\n",
       "      <td>Bbc.com</td>\n",
       "    </tr>\n",
       "    <tr>\n",
       "      <th>2</th>\n",
       "      <td>tbronzatto</td>\n",
       "      <td>Por que Bolsonaro quer trocar o comando da Pol...</td>\n",
       "      <td>Investigações que atingiram aliados, inquérito...</td>\n",
       "      <td>https://veja.abril.com.br/brasil/por-que-bolso...</td>\n",
       "      <td>https://abrilveja.files.wordpress.com/2019/12/...</td>\n",
       "      <td>2020-04-23T20:20:30Z</td>\n",
       "      <td>O presidente Jair Bolsonaro se elegeu hasteand...</td>\n",
       "      <td>None</td>\n",
       "      <td>Abril.com.br</td>\n",
       "    </tr>\n",
       "    <tr>\n",
       "      <th>3</th>\n",
       "      <td>Rafael Neves</td>\n",
       "      <td>Lava Jato suspeitava que Alexandre Ramagem era...</td>\n",
       "      <td>Escolhido por Bolsonaro como novo chefe da Pol...</td>\n",
       "      <td>https://theintercept.com/2020/04/27/vaza-jato-...</td>\n",
       "      <td>https://theintercept.com/wp-uploads/sites/1/20...</td>\n",
       "      <td>2020-04-28T01:51:12Z</td>\n",
       "      <td>O delegado Alexandre Ramagem\\r\\n ainda nem ass...</td>\n",
       "      <td>None</td>\n",
       "      <td>Theintercept.com</td>\n",
       "    </tr>\n",
       "    <tr>\n",
       "      <th>4</th>\n",
       "      <td>https://www.facebook.com/bbcnews</td>\n",
       "      <td>Da negação da demissão à facada de Adélio: com...</td>\n",
       "      <td>Apoiadores do presidente no WhatsApp, Facebook...</td>\n",
       "      <td>https://www.bbc.com/portuguese/brasil-52444072</td>\n",
       "      <td>https://ichef.bbci.co.uk/news/1024/branded_por...</td>\n",
       "      <td>2020-04-28T14:13:38Z</td>\n",
       "      <td>Direito de imagemREUTERS/Ueslei MarcelinoImage...</td>\n",
       "      <td>None</td>\n",
       "      <td>Bbc.com</td>\n",
       "    </tr>\n",
       "    <tr>\n",
       "      <th>5</th>\n",
       "      <td>None</td>\n",
       "      <td>Em live de Páscoa, Bolsonaro relaciona ressurr...</td>\n",
       "      <td>Neste domingo, 12, o presidente Jair Bolsonaro...</td>\n",
       "      <td>https://catracalivre.com.br/cidadania/em-live-...</td>\n",
       "      <td>https://catracalivre.com.br/wp-content/uploads...</td>\n",
       "      <td>2020-04-12T22:50:59Z</td>\n",
       "      <td>Neste domingo, 12, o presidente Jair Bolsonaro...</td>\n",
       "      <td>None</td>\n",
       "      <td>Catracalivre.com.br</td>\n",
       "    </tr>\n",
       "  </tbody>\n",
       "</table>\n",
       "</div>"
      ],
      "text/plain": [
       "                             author  \\\n",
       "0                          Fábio Py   \n",
       "1  https://www.facebook.com/bbcnews   \n",
       "2                        tbronzatto   \n",
       "3                      Rafael Neves   \n",
       "4  https://www.facebook.com/bbcnews   \n",
       "5                              None   \n",
       "\n",
       "                                               title  \\\n",
       "0  Cristofascismo em 7 atos: como Bolsonaro usou ...   \n",
       "1  'E daí?': quem é Alexandre Ramagem, o amigo da...   \n",
       "2  Por que Bolsonaro quer trocar o comando da Pol...   \n",
       "3  Lava Jato suspeitava que Alexandre Ramagem era...   \n",
       "4  Da negação da demissão à facada de Adélio: com...   \n",
       "5  Em live de Páscoa, Bolsonaro relaciona ressurr...   \n",
       "\n",
       "                                         description  \\\n",
       "0  Em plena Páscoa, Bolsonaro desenvolveu uma con...   \n",
       "1  Delegado federal, que dirigia Agência Brasilei...   \n",
       "2  Investigações que atingiram aliados, inquérito...   \n",
       "3  Escolhido por Bolsonaro como novo chefe da Pol...   \n",
       "4  Apoiadores do presidente no WhatsApp, Facebook...   \n",
       "5  Neste domingo, 12, o presidente Jair Bolsonaro...   \n",
       "\n",
       "                                                 url  \\\n",
       "0  https://theintercept.com/2020/05/01/cristofasc...   \n",
       "1     https://www.bbc.com/portuguese/brasil-52453022   \n",
       "2  https://veja.abril.com.br/brasil/por-que-bolso...   \n",
       "3  https://theintercept.com/2020/04/27/vaza-jato-...   \n",
       "4     https://www.bbc.com/portuguese/brasil-52444072   \n",
       "5  https://catracalivre.com.br/cidadania/em-live-...   \n",
       "\n",
       "                                          urlToImage           publishedAt  \\\n",
       "0  https://theintercept.com/wp-uploads/sites/1/20...  2020-05-01T04:03:49Z   \n",
       "1  https://ichef.bbci.co.uk/news/1024/branded_por...  2020-04-28T10:45:33Z   \n",
       "2  https://abrilveja.files.wordpress.com/2019/12/...  2020-04-23T20:20:30Z   \n",
       "3  https://theintercept.com/wp-uploads/sites/1/20...  2020-04-28T01:51:12Z   \n",
       "4  https://ichef.bbci.co.uk/news/1024/branded_por...  2020-04-28T14:13:38Z   \n",
       "5  https://catracalivre.com.br/wp-content/uploads...  2020-04-12T22:50:59Z   \n",
       "\n",
       "                                             content source.id  \\\n",
       "0  Foto: Andressa Anholete/Getty Images\\r\\nAo per...      None   \n",
       "1  Direito de imagemCarolina Antunes/PRImage capt...      None   \n",
       "2  O presidente Jair Bolsonaro se elegeu hasteand...      None   \n",
       "3  O delegado Alexandre Ramagem\\r\\n ainda nem ass...      None   \n",
       "4  Direito de imagemREUTERS/Ueslei MarcelinoImage...      None   \n",
       "5  Neste domingo, 12, o presidente Jair Bolsonaro...      None   \n",
       "\n",
       "           source.name  \n",
       "0     Theintercept.com  \n",
       "1              Bbc.com  \n",
       "2         Abril.com.br  \n",
       "3     Theintercept.com  \n",
       "4              Bbc.com  \n",
       "5  Catracalivre.com.br  "
      ]
     },
     "execution_count": 7,
     "metadata": {},
     "output_type": "execute_result"
    }
   ],
   "source": [
    "#transformando os artigos de json pra df\n",
    "data = json.loads(json.dumps(resp_articles))\n",
    "dfArtigos = json_normalize(data)\n",
    "type(dfArtigos)\n",
    "dfArtigos"
   ]
  },
  {
   "cell_type": "code",
   "execution_count": 8,
   "metadata": {},
   "outputs": [
    {
     "name": "stdout",
     "output_type": "stream",
     "text": [
      "https://theintercept.com/2020/05/01/cristofascismo-bolsonaro-pascoa/\n",
      "https://www.bbc.com/portuguese/brasil-52453022\n",
      "https://veja.abril.com.br/brasil/por-que-bolsonaro-quer-trocar-o-comando-da-policia-federal/\n",
      "https://theintercept.com/2020/04/27/vaza-jato-deltan-desconfiava-ramagem/\n",
      "https://www.bbc.com/portuguese/brasil-52444072\n",
      "https://catracalivre.com.br/cidadania/em-live-de-pascoa-bolsonaro-relaciona-ressurreicao-a-facada-de-2018/\n",
      "concluido\n"
     ]
    }
   ],
   "source": [
    "dfConteudo = pd.DataFrame(columns=['nr_noticia', 'texto', 'tamanho', 'origem'])\n",
    "contador = 0\n",
    "\n",
    "for url in dfArtigos['url']:\n",
    "    print(url)\n",
    "    article = requests.get(url)\n",
    "    article_content = article.content\n",
    "    soup_article = BeautifulSoup(article_content, 'html5lib')\n",
    "    body = soup_article.find_all('body')\n",
    "    p = body[0].find_all('p')\n",
    "    for y in p:\n",
    "        text = y.get_text().strip()\n",
    "        if(len(text) > 0):\n",
    "            dfConteudo = dfConteudo.append({\"nr_noticia\":contador, \"texto\":text, \"tamanho\":len(text), \"origem\":url}, ignore_index=True)\n",
    "    \n",
    "    contador = contador + 1\n",
    "\n",
    "print('concluido')"
   ]
  },
  {
   "cell_type": "code",
   "execution_count": 17,
   "metadata": {},
   "outputs": [
    {
     "name": "stdout",
     "output_type": "stream",
     "text": [
      "    nr_noticia                                              texto tamanho  \\\n",
      "92           2  O presidente Jair Bolsonaro se elegeu hasteand...     519   \n",
      "93           2  Mas por que, afinal, Bolsonaro quer trocar a c...     110   \n",
      "94           2  Desde setembro do ano passado, o presidente es...     302   \n",
      "95           2  No mesmo mês, a Polícia Federal deflagrou uma ...     272   \n",
      "96           2  Outro ponto que desgastou Valeixo foi a invest...     508   \n",
      "97           2  Além disso, aliados do presidente passaram a d...     628   \n",
      "98           2  Em janeiro, Valeixo teve uma conversa com Moro...     401   \n",
      "99           2  Nos últimos dias, o diretor-geral da PF começo...     536   \n",
      "100          2  Em meio a essa confusão, Valeixo ainda não foi...     271   \n",
      "101          2                            A partir de R$ 9,90/mês      23   \n",
      "102          2                            A partir de R$ 6,90/mês      23   \n",
      "103          2                            A partir de R$ 4,90/mês      23   \n",
      "104          2                            A partir de R$ 6,90/mês      23   \n",
      "105          2                            A partir de R$ 6,90/mês      23   \n",
      "106          2                            A partir de R$ 6,90/mês      23   \n",
      "107          2                                     Leia também no      14   \n",
      "108          2  Copyright © Abril Mídia S A. Todos os direitos...      58   \n",
      "\n",
      "                                                origem  \n",
      "92   https://veja.abril.com.br/brasil/por-que-bolso...  \n",
      "93   https://veja.abril.com.br/brasil/por-que-bolso...  \n",
      "94   https://veja.abril.com.br/brasil/por-que-bolso...  \n",
      "95   https://veja.abril.com.br/brasil/por-que-bolso...  \n",
      "96   https://veja.abril.com.br/brasil/por-que-bolso...  \n",
      "97   https://veja.abril.com.br/brasil/por-que-bolso...  \n",
      "98   https://veja.abril.com.br/brasil/por-que-bolso...  \n",
      "99   https://veja.abril.com.br/brasil/por-que-bolso...  \n",
      "100  https://veja.abril.com.br/brasil/por-que-bolso...  \n",
      "101  https://veja.abril.com.br/brasil/por-que-bolso...  \n",
      "102  https://veja.abril.com.br/brasil/por-que-bolso...  \n",
      "103  https://veja.abril.com.br/brasil/por-que-bolso...  \n",
      "104  https://veja.abril.com.br/brasil/por-que-bolso...  \n",
      "105  https://veja.abril.com.br/brasil/por-que-bolso...  \n",
      "106  https://veja.abril.com.br/brasil/por-que-bolso...  \n",
      "107  https://veja.abril.com.br/brasil/por-que-bolso...  \n",
      "108  https://veja.abril.com.br/brasil/por-que-bolso...  \n",
      "\n",
      "qtd caracteres na noticia: 3615\n",
      "\n",
      "O presidente Jair Bolsonaro se elegeu hasteando a bandeira de combate à corrupção. O maior sinal de que ele estava disposto a acabar com os negócios espúrios em Brasília foi a escolha do ex-juiz da Operação Lava-Jato, Sergio Moro, para comandar o ministério da Justiça e chefiar a Polícia Federal. Nesta quinta-feira, 23, Bolsonaro disse a Moro que irá demitir o diretor-geral da PF, Maurício Valeixo, responsável por coordenar em Curitiba a prisão do ex-presidente Lula. A notícia conflagrou mais uma crise no governo.\n",
      "Mas por que, afinal, Bolsonaro quer trocar a cúpula da Polícia Federal, composta por integrantes da Lava-Jato?\n",
      "Desde setembro do ano passado, o presidente está insatisfeito com Valeixo. Naquela época, Bolsonaro foi informado de uma trama armada entre os policiais para investigar o seu amigo e deputado federal Hélio Lopes, conhecido como Hélio Negão. A revelação colocou a cabeça do diretor-geral da PF a prêmio.\n",
      "No mesmo mês, a Polícia Federal deflagrou uma operação contra o senador Fernando Bezerra Coelho (MDB-PE), líder do governo no Senado, e cumpriu mandados de busca e apreensão em gabinetes do Congresso. Isso irritou alguns parlamentares, que reclamaram com Bolsonaro e Moro.\n",
      "Outro ponto que desgastou Valeixo foi a investigação do esfaqueador do presidente, Adélio Bispo de Oliveira. Bolsonaro chegou a pressionar publicamente a PF para desvendar a identidade do suposto mandante do ataque sofrido em Juiz de Fora, Minas Gerais, durante as eleições de 2018. Após uma apuração minuciosa, a Polícia Federal concluiu que o criminoso agiu sozinho e sofria transtornos mentais. O presidente nunca engoliu essa explicação, mesmo após uma exposição detalhada do caso no Palácio do Planalto.\n",
      "Além disso, aliados do presidente passaram a detonar Valeixo e Moro nos bastidores e a trabalhar para emplacar um substituto para comandar a PF. No fim do ano passado, o ex-deputado federal, Alberto Fraga, tentou convencer Bolsonaro a nomear o delegado e secretário de Segurança do Distrito Federal, Anderson Torres. Em outra frente de pressão, os filhos do presidente sugeriram o diretor-geral da Agência Brasileira de Inteligência (Abin), Alexandre Ramagem, que trabalhou como segurança de Bolsonaro durante as últimas eleições. Naquela ocasião, o presidente chegou a dar um prazo para resolver esse impasse: início deste ano.\n",
      "Em janeiro, Valeixo teve uma conversa com Moro para preparar a sua saída. Desgastado, o diretor-geral sugeriu iniciar uma transição do seu cargo enquanto se preparava para assumir outra função: adido da corporação em Portugal. O ministro da Justiça disse que pensaria no caso, mas não aceitou, porque a troca na cúpula da PF poderia abrir espaço para a nomeação de adversários do ex-juiz da Lava-Jato.\n",
      "Nos últimos dias, o diretor-geral da PF começou a receber sinais de que a hora de encerrar a sua missão poderia ter chegado. Alguns delegados começaram a especular sobre uma possível saída de Valeixo. Alguns nomes chegaram a ser cotados informalmente. Nesta quinta-feira, 23, os boatos se confirmaram: Bolsonaro comunicou a Moro que iria trocar o chefe da Polícia Federal. A decisão fez com que o ministro da Justiça se movimentasse em Brasília para tentar impedir a queda do seu homem de confiança, gerando mais um conflito no governo.\n",
      "Em meio a essa confusão, Valeixo ainda não foi comunicado oficialmente sobre a sua demissão. A única informação que recebeu era que deveria esperar. Independentemente do desfecho dessa nova crise, o fato é que Bolsonaro está insatisfeito com a atuação da Polícia Federal.\n",
      "Copyright © Abril Mídia S A. Todos os direitos reservados.\n"
     ]
    }
   ],
   "source": [
    "noticia = dfConteudo[dfConteudo['nr_noticia']==2] \n",
    "\n",
    "print(noticia)\n",
    "noticiaFiltrado = noticia[noticia['tamanho'] > 50]\n",
    "\n",
    "textoNoticia = \"\"\n",
    "for nf in noticiaFiltrado['texto']:\n",
    "    textoNoticia = textoNoticia + \"\\n\" + nf\n",
    "\n",
    "    ##############LEMBRAR DE PEGAR TITULOS TAMBEM\n",
    "print('\\nqtd caracteres na noticia: ' + str(len(textoNoticia)))\n",
    "print(textoNoticia)"
   ]
  },
  {
   "cell_type": "code",
   "execution_count": 14,
   "metadata": {},
   "outputs": [],
   "source": [
    "import spacy\n",
    "nlp = spacy.load(\"pt_core_news_sm\")"
   ]
  },
  {
   "cell_type": "code",
   "execution_count": 18,
   "metadata": {},
   "outputs": [
    {
     "data": {
      "text/plain": [
       "(Jair Bolsonaro,\n",
       " Brasília,\n",
       " Operação Lava-Jato,\n",
       " Sergio Moro,\n",
       " Justiça,\n",
       " Polícia Federal,\n",
       " Bolsonaro,\n",
       " Moro,\n",
       " PF,\n",
       " Maurício Valeixo,\n",
       " Curitiba,\n",
       " Lula,\n",
       " Bolsonaro,\n",
       " Polícia Federal,\n",
       " Lava-Jato?,\n",
       " Valeixo,\n",
       " Bolsonaro,\n",
       " Hélio Lopes,\n",
       " Hélio Negão,\n",
       " PF,\n",
       " Polícia Federal,\n",
       " Fernando Bezerra Coelho,\n",
       " MDB-PE,\n",
       " Senado,\n",
       " Congresso,\n",
       " Bolsonaro,\n",
       " Moro,\n",
       " Valeixo,\n",
       " Adélio Bispo de Oliveira,\n",
       " Bolsonaro,\n",
       " PF,\n",
       " Juiz de Fora,\n",
       " Minas Gerais,\n",
       " Polícia Federal,\n",
       " Palácio do Planalto,\n",
       " Valeixo,\n",
       " Moro,\n",
       " PF,\n",
       " Alberto Fraga,\n",
       " Bolsonaro,\n",
       " Segurança do Distrito Federal,\n",
       " Anderson Torres,\n",
       " Agência Brasileira de Inteligência,\n",
       " Abin,\n",
       " Alexandre Ramagem,\n",
       " Bolsonaro,\n",
       " Valeixo,\n",
       " Moro,\n",
       " Desgastado,\n",
       " em Portugal,\n",
       " Justiça,\n",
       " PF,\n",
       " Lava-Jato,\n",
       " PF,\n",
       " Valeixo,\n",
       " Bolsonaro,\n",
       " Moro,\n",
       " Polícia Federal,\n",
       " Justiça,\n",
       " Brasília,\n",
       " Valeixo,\n",
       " Bolsonaro,\n",
       " Polícia Federal,\n",
       " Copyright)"
      ]
     },
     "execution_count": 18,
     "metadata": {},
     "output_type": "execute_result"
    }
   ],
   "source": [
    "doc = nlp(textoNoticia)\n",
    "doc.ents"
   ]
  }
 ],
 "metadata": {
  "colab": {
   "name": "Leo.ipynb",
   "provenance": []
  },
  "kernelspec": {
   "display_name": "Python 3",
   "language": "python",
   "name": "python3"
  },
  "language_info": {
   "codemirror_mode": {
    "name": "ipython",
    "version": 3
   },
   "file_extension": ".py",
   "mimetype": "text/x-python",
   "name": "python",
   "nbconvert_exporter": "python",
   "pygments_lexer": "ipython3",
   "version": "3.7.3"
  }
 },
 "nbformat": 4,
 "nbformat_minor": 4
}
