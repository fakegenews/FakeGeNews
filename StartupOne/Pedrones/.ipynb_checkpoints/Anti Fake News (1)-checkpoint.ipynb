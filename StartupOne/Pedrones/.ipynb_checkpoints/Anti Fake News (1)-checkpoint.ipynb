{
 "cells": [
  {
   "cell_type": "code",
   "execution_count": 1,
   "metadata": {},
   "outputs": [],
   "source": [
    "import numpy\n",
    "import cv2\n",
    "import pytesseract\n",
    "import requests\n",
    "import nltk\n",
    "from googlesearch import search\n",
    "from html.parser import HTMLParser\n",
    "\n",
    "from nltk.corpus import stopwords\n",
    "from PIL import Image\n",
    "from textblob import TextBlob\n",
    "pytesseract.pytesseract.tesseract_cmd = r'C:\\\\Program Files\\\\Tesseract-OCR\\\\tesseract.exe'"
   ]
  },
  {
   "cell_type": "code",
   "execution_count": 3,
   "metadata": {},
   "outputs": [
    {
     "name": "stderr",
     "output_type": "stream",
     "text": [
      "[nltk_data] Downloading package stopwords to C:\\Users\\Maria\n",
      "[nltk_data]     Angélica\\AppData\\Roaming\\nltk_data...\n",
      "[nltk_data]   Unzipping corpora\\stopwords.zip.\n"
     ]
    },
    {
     "data": {
      "text/plain": [
       "True"
      ]
     },
     "execution_count": 3,
     "metadata": {},
     "output_type": "execute_result"
    }
   ],
   "source": [
    "nltk.download('stopwords')"
   ]
  },
  {
   "cell_type": "code",
   "execution_count": 2,
   "metadata": {},
   "outputs": [],
   "source": [
    "import urllib.parse"
   ]
  },
  {
   "cell_type": "code",
   "execution_count": 51,
   "metadata": {},
   "outputs": [
    {
     "name": "stdout",
     "output_type": "stream",
     "text": [
      "Collecting urllib2\n"
     ]
    },
    {
     "name": "stderr",
     "output_type": "stream",
     "text": [
      "  ERROR: Could not find a version that satisfies the requirement urllib2 (from versions: none)\n",
      "ERROR: No matching distribution found for urllib2\n"
     ]
    }
   ],
   "source": [
    "!pip install urllib2"
   ]
  },
  {
   "cell_type": "code",
   "execution_count": 3,
   "metadata": {},
   "outputs": [
    {
     "name": "stdout",
     "output_type": "stream",
     "text": [
      "+55 11 94356-0047\n",
      "O que é foda € nao ter achievements e nem ter como ve ter um carrinho de\n",
      "compras... Até 0 fato de no ter achievements, tudo bem, mas carrinho de\n",
      "compra é um bsico pra qq site de compra online\n",
      "['55', '11', '94356-0047', 'What', 'the', 'fuck', '€', 'does', 'not', 'have', 'achievements', 'and', 'how', 'to', 'have', 'a', 'cart', 'shopping', 'Up', 'to', '0', 'fact', 'that', 'there', 'are', 'no', 'achievements', 'fine', 'but', 'shopping', 'cart', 'purchase', 'is', 'a', 'basic', 'qq', 'online', 'shopping', 'site']\n",
      "Sentiment(polarity=0.005555555555555554, subjectivity=0.4083333333333334)\n",
      "['55', '11', '94356-0047', 'O', 'que', 'é', 'foda', '€', 'nao', 'ter', 'achievements', 'e', 'nem', 'ter', 'como', 've', 'ter', 'um', 'carrinho', 'de', 'compras', 'Até', '0', 'fato', 'de', 'no', 'ter', 'achievements', 'tudo', 'bem', 'mas', 'carrinho', 'de', 'compra', 'é', 'um', 'bsico', 'pra', 'qq', 'site', 'de', 'compra', 'online']\n",
      "55 11 94356-0047 O foda € nao ter achievements ter ve ter carrinho compras Até 0 fato ter achievements tudo bem carrinho compra bsico pra qq site compra online \n"
     ]
    }
   ],
   "source": [
    "img = cv2.imread('whats.PNG')\n",
    "text = pytesseract.image_to_string(Image.open('whats.PNG'), lang='eng')\n",
    "print(text)\n",
    "blob = TextBlob(text).translate(to='en')\n",
    "blobPT = TextBlob(text)\n",
    "print(blob.words)\n",
    "print(blob.sentiment)\n",
    "print(blobPT.words)\n",
    "\n",
    "pt_stops = set(stopwords.words('portuguese'))\n",
    "#en_stops = set(stopwords.words('english'))\n",
    "textoPesquisa = \"\"\n",
    "\n",
    "for word in blobPT.words: \n",
    "    if word not in pt_stops:\n",
    "        textoPesquisa += word + \" \"\n",
    "        \n",
    "print(textoPesquisa)"
   ]
  },
  {
   "cell_type": "code",
   "execution_count": 23,
   "metadata": {},
   "outputs": [
    {
     "name": "stdout",
     "output_type": "stream",
     "text": [
      "55 11 94356-0047 O foda € nao ter achievements ter ve ter carrinho compras Até 0 fato ter achievements tudo bem carrinho compra bsico pra qq site compra online - Pesquisa Google\n",
      "(function(){\n",
      "document.documentElement.addEventListener(\"submit\",function(b){var a;if(a=b.target){var c=a.getAttribute(\"data-submitfalse\");a=\"1\"==c||\"q\"==c&&!a.elements.q.value?!0:!1}else a=!1;a&&(b.preventDefault(),b.stopPropagation())},!0);document.documentElement.addEventListener(\"click\",function(b){var a;a:{for(a=b.target;a&&a!=document.documentElement;a=a.parentElement)if(\"A\"==a.tagName){a=\"1\"==a.getAttribute(\"data-nohref\");break a}a=!1}a&&b.preventDefault()},!0);}).call(this);(function(){\n",
      "var a=window.performance;window.start=Date.now();a:{var b=window;if(a){var c=a.timing;if(c){var d=c.navigationStart,f=c.responseStart;if(f>d&&f<=window.start){window.start=f;b.wsrt=f-d;break a}}a.now&&(b.wsrt=Math.floor(a.now()))}}window.google=window.google||{};var h=function(g){g&&g.target.setAttribute(\"data-iml\",Date.now())};document.documentElement.addEventListener(\"load\",h,!0);google.rglh=function(){document.documentElement.removeEventListener(\"load\",h,!0)};}).call(this);(function(){\n",
      "var c=[],e=0;window.ping=function(b){-1==b.indexOf(\"&zx\")&&(b+=\"&zx=\"+Date.now());var a=new Image,d=e++;c[d]=a;a.onerror=a.onload=a.onabort=function(){delete c[d]};a.src=b};}).call(this);\n",
      "body{margin:0 auto;max-width:736px;padding:0 8px}a{color:#1967D2;text-decoration:none;tap-highlight-color:rgba(0,0,0,.1)}a:visited{color:#4B11A8}a:hover{text-decoration:underline}img{border:0}html{font-family:Roboto,HelveticaNeue,Arial,sans-serif;font-size:14px;line-height:20px;text-size-adjust:100%;color:#3C4043;word-wrap:break-word;background-color:#fff}.bRsWnc{background-color:#fff;border-top:1px solid #e0e0e0;height:39px;overflow:hidden}.N6RWV{height:51px;overflow-scrolling:touch;overflow-x:auto;overflow-y:hidden}.Uv67qb{box-pack:justify;font-size:12px;line-height:37px;justify-content:space-between;justify-content:space-between}.Uv67qb a,.Uv67qb span{color:#757575;display:block;flex:none;padding:0 16px;text-align:center;text-transform:uppercase;}span.OXXup{border-bottom:2px solid #4285f4;color:#4285f4;font-weight:bold}a.eZt8xd:visited{color:#757575}.FElbsf{border-left:1px solid rgba(0,0,0,.12)}header article{overflow:visible}.Pg70bf{height:39px;display:box;display:flex;display:flex;width:100%}.H0PQec{position:relative;flex:1}.sbc{display:flex;width:100%}.Pg70bf input{margin:2px 4px 2px 8px;}.x{width:26px;color:#757575;font:27px/38px arial, sans-serif;line-height:40px;}#qdClwb{flex:0 0 auto;width:39px;height:39px;border-bottom:0;padding:0;border-top-right-radius:8px;background-color:#3b78e7;border:1px solid #3367d6;background-image:url(data:image/gif;base64,R0lGODdhJAAjAPIHAODr/nCk+MPZ/FmV96zK+/7+/5K5+kqL9iwAAAAAJAAjAEADani63P4wykmbKcQRXDscQAEMXmmeaLQVLCukzyC09AjfeK7v/MAajACLhPMVAgwjsUcEiZa8xgAYrVqv2Kx2iwsIAAABknfBBAKrTE4IcMyot8ur8datqIbQfJdnAfo2WE6BV05wXIiJigkAOw==);}.sc{font-size:;position:absolute;top:39px;left:0;right:0;box-shadow:0px 2px 5px rgba(0,0,0,.2);z-index:2;background-color:#fff}.sc>div{padding:10px 10px;padding-left:16px;padding-left:14px;border-top:1px solid #DFE1E5}.scs{background-color:#f5f5f5;}.noHIxc{display:block;font-size:16px;padding:0 0 0 8px;flex:1;height:35px;outline:none;border:none;width:100%;-webkit-tap-highlight-color:rgba(0,0,0,0);overflow:hidden;}.sbc input[type=text]{background:none}.sml .cOl4Id{display:none}.l{display:none}.sml header{background:none}.sml .l{display:block;padding:0 8px}.sml .l{letter-spacing:-1px;text-align:center;border-radius:2px 0 0 0;font:22px/36px Futura, Arial, sans-serif;font-smoothing:antialiased}.bz1lBb{background:#fff;border-radius:8px 8px 0 0;box-shadow:0 1px 6px rgba(32, 33, 36, 0.18);margin-top:10px}.KP7LCb{border-radius:0 0 8px 8px;box-shadow:0 2px 3px rgba(32, 33, 36, 0.18);margin-bottom:10px;overflow:hidden}.cOl4Id{letter-spacing:-1px;text-align:center;font:22pt Futura, Arial, sans-serif;padding:10px 0 5px 0;height:37px;font-smoothing:antialiased}.cOl4Id span{display:inline-block}.S591j{height:100%}.V6gwVd{color:#4285f4}.iWkuvd{color:#ea4335}.cDrQ7{color:#fbcc05}.ntlR9{color:#34a853}.tJ3Myc{-webkit-transform:rotate(-20deg);position:relative;left:-1px;display:inline-block}footer{text-align:center;margin-top:18px}footer a,footer a:visited,.smiUbb{color:#5f6368}.ksTU4c{margin:0 13px}#mCljob{margin-top:36px}#mCljob>div{margin:20px}\n",
      "(function(){var c=500;(function(){window.screen&&window.screen.width<=c&&window.screen.height<=c&&document.getElementById(\"hdr\").classList.add(\"sml\");}).call(this);})();\n",
      "G\n",
      "o\n",
      "o\n",
      "g\n",
      "l\n",
      "e\n",
      "G\n",
      "o\n",
      "o\n",
      "g\n",
      "l\n",
      "e\n",
      "×\n",
      "table,div,span,p{display:none}\n",
      "Clique \n",
      "aqui\n",
      " se você não for redirecionado em alguns segundos.\n",
      " \n",
      " \n",
      " \n",
      " \n",
      "Todas\n",
      "Shopping\n",
      "Imagens\n",
      "Notícias\n",
      "  \n",
      "Maps\n",
      "  \n",
      "Vídeos\n",
      "  \n",
      "Livros\n",
      "  \n",
      "Ferramentas de pesquisa\n",
      " \n",
      " \n",
      " \n",
      " \n",
      ".wEsjbd{background-color:#fff;height:44px;white-space:nowrap}.coPU8c{height:60px;overflow-scrolling:touch;overflow-x:auto;overflow-y:hidden}.Xj2aue{height:44px;overflow:hidden}.RnNGze{margin:11px 16px}.wEsjbd div,.wEsjbd a,.wEsjbd li{outline-width:0;outline:none}\n",
      ".PA9J5{display:inline-block}.RXaOfd{display:inline-block;height:22px;position:relative;padding-top:0;padding-bottom:0;padding-right:16px;padding-left:0;line-height:22px;cursor:pointer;text-transform:uppercase;font-size:12px;color:#757575}.sa1toc{display:none;position:absolute;background:#fff;border:1px solid #d6d6d6;box-shadow:0 2px 4px rgba(0,0,0,0.3);margin:0;white-space:nowrap;z-index:103;line-height:17px;padding-top:5px;padding-bottom:5px;padding-left:0px}.PA9J5:hover .sa1toc{display:block}.mGSy8d a:active,.RXaOfd:active{color:#4285f4}\n",
      ".TWMOUc{display:inline-block;padding-right:14px;white-space:nowrap}.vQYuGf{font-weight:bold}.OmTIzf{border-color:#909090 transparent;border-style:solid;border-width:4px 4px 0 4px;width:0;height:0;margin-left:-10px;top:50%;margin-top:-2px;position:absolute}.RXaOfd:active .OmTIzf{border-color:#4285f4 transparent}\n",
      "Em qualquer idioma\n",
      ".ozatM{font-size:12px;text-transform:uppercase}.ozatM .yNFsl,.ozatM li{list-style-type:none;list-style-position:outside;list-style-image:none}.yNFsl.SkUj4c,.yNFsl a{color:rgba(0,0,0,0.54);text-decoration:none;padding:6px 44px 6px 14px;line-height:17px;display:block}.SkUj4c{background-image:url(//ssl.gstatic.com/ui/v1/menu/checkmark2.png);background-position:right center;background-repeat:no-repeat}.SkUj4c:active{background-color:#f5f5f5}\n",
      "Em qualquer idioma\n",
      "Pesquisar páginas em Português\n",
      "Em qualquer data\n",
      "Em qualquer data\n",
      " Na última hora\n",
      " Nas últimas 24 horas\n",
      " Na última semana\n",
      " No último mês\n",
      " No último ano\n",
      "Todos os resultados\n",
      "Todos os resultados\n",
      "Ao pé da letra\n",
      "(function(){\n",
      "var a=document.getElementById(\"st-toggle\"),b=document.getElementById(\"st-card\");a&&b&&a.addEventListener(\"click\",function(c){b.style.display=b.style.display?\"\":\"none\";c.preventDefault()},!1);}).call(this);\n",
      ".ZINbbc{background-color:#fff;margin-bottom:10px;box-shadow:0 1px 6px rgba(32, 33, 36, 0.28);border-radius:8px}.uUPGi{font-size:14px;line-height:20px;}.O9g5cc>*:first-child{border-top-left-radius:8px;border-top-right-radius:8px}.O9g5cc>*:last-child{border-bottom-left-radius:8px;border-bottom-right-radius:8px}.O9g5cc>.qxDOhb>*:first-child{border-top-left-radius:8px;border-top-right-radius:8px}.O9g5cc>.qxDOhb>*:last-child{border-bottom-left-radius:8px;border-bottom-right-radius:8px}.rl7ilb{display:block;clear:both}.kCrYT{padding:12px 16px 12px}a.fdYsqf{color:#4B11A8}.BNeawe{white-space:pre-line;word-wrap:break-word}.vvjwJb{color:#1967D2;font-size:16px;line-height:20px}.vvjwJb a:visited{color:#4B11A8}.vvjwJb.HrGdeb{color:rgba(255,255,255,1)}.vvjwJb.HrGdeb a:visited{color:rgba(255,255,255,.7)}.UPmit{font-size:14px;line-height:20px}.UPmit.HrGdeb{color:rgba(255,255,255,.7)}.UPmit.AP7Wnd{color:rgba(0,102,33,1)}.x54gtf{height:1px;background-color:#dfe1e5;margin:0 16px}.Q0HXG{height:1px;background-color:#dfe1e5}.Ap5OSd{padding-bottom:12px}.s3v9rd{font-size:14px;line-height:20px}.s3v9rd.HrGdeb{color:rgba(255,255,255,1)}.s3v9rd.AP7Wnd{color:#202124}.mSx1Ee{padding-left:48px;margin:0}.v9i61e{padding-bottom:8px}.r0bn4c.tr0dw{color:rgba(255,255,255,.7)}.r0bn4c.rQMQod{color:#70757A}.hfgVwf{margin-top:12px}.IxZjcf .hfgVwf{margin-bottom:12px}.OdF8Fd{float:right;padding-left:16px}.p1vimb{border-radius:8px;display:block}.rkvY3c{clear:both}.CgE3Ac{margin:0 16px}.I9mEQ{padding-bottom:12px}.LnMnt{border-collapse:collapse;border-spacing:0;width:100%}.LnMnt td{padding-top:0;padding-bottom:0;padding-right:8px}.LnMnt .s5aIid{padding-right:0}.IxZjcf{border-bottom:1px solid #dfe1e5}.sjsZvd{vertical-align:top}.IfyLsd{float:left;margin-right:8px}.OE1use{text-align:left}.BSv1qf{text-align:center}.HlHBvc{text-align:right}.tAd8D{font-size:14px;line-height:20px}.tAd8D.HrGdeb{color:rgba(255,255,255,.7)}.tAd8D.AP7Wnd{color:#70757A}.ko6Hn{text-decoration:underline}\n",
      "Tencent Wins Two Financial Innovation Awards From The Asian ...\n",
      "https://www.prnewswire.com › news-releases › tencent-wins-two-financial-i...\n",
      "15 de jun. de 2017\n",
      " · \n",
      "\"The Asian Banker Innovation Leadership Achievement Award\" is an important ... The achievements of Chinese financial technology companies have ... to propel Tencent's rapid growth in digital payment and online wealth management. ... Terms of Use · Privacy Policy · Information Security Policy · Site Map ...\n",
      "WayV becomes Chinese idol group set highest record on iTunes\n",
      "https://channels.vlive.tv › celeb\n",
      "14 de mai. de 2019\n",
      " · \n",
      "On May 11, regarding this, the Global Times - China's state-run newspaper, said, ... The boys surprised the public with amazing achievements\", attracting much attention. ... No.1 position on QQ Music's Popular Chart - China's biggest music site - but also climbed to No.1 ... like 0 Like ... video Play Time5:55.\n",
      "Pony Ma – Tencent – DreamCatchers\n",
      "https://www.dreamcatchers.hku.hk › ...\n",
      "20 de jul. de 2015\n",
      " · \n",
      "As I have said before, the Internet is just like the First or Second Industrial Revolution, ... To us, this would be our highest point of achievement.\n",
      "Para mostrar os resultados mais relevantes, omitimos algumas entradas bastante semelhantes aos 3 resultados já exibidos.\n",
      "Se preferir, você pode \n",
      "repetir a pesquisa incluindo os resultados omitidos\n",
      ".\n",
      " \n",
      "   \n",
      "  \n",
      "Fazer login\n",
      "Configurações\n",
      "Privacidade\n",
      "Termos\n",
      " \n",
      "(function(){var hl='pt-BR';(function(){\n",
      "var b=this||self,d=/^[\\w+/_-]+[=]{0,2}$/,e=null;var f=document.querySelector(\".l\"),g=document.querySelector(\"#sf\"),k=g.querySelector(\".sbc\"),l=g.querySelector(\"[type=text]\"),m=g.querySelector(\"[type=submit]\"),n=g.querySelector(\".sc\"),p=g.querySelector(\".x\"),q=l.value,r=[],t=-1,u=q,w,x,y;q||(p&&(p.style.display=\"none\"),z(!1));function z(a){if(k.classList.contains(\"esbc\")){var c=k.classList.contains(\"chsbc\"),h=k.classList.contains(\"rtlsbc\");a&&(n.style.display=\"block\",c?(g.style.borderRadius=\"20px 20px 0 0\",n.style.borderBottom=\"1px solid #DFE1E5\",m.style.borderRadius=h?\"20px 0 0 0\":\"0 20px 0 0\"):k.style.borderRadius=h?\"0 8px 0 0\":\"8px 0 0 0\");a||(n.style.display=\"none\",c?(g.style.borderRadius=\"20px\",n.style.borderBottom=\"none\",m.style.borderRadius=h?\"20px 0 0 20px\":\"0 20px 20px 0\"):k.style.borderRadius=h?\"0 8px 8px 0\":\"8px 0 0 8px\")}}function A(){g.querySelector(\"[name=oq]\").value=u;g.querySelector(\"[name=aqs]\").value=\"heirloom-srp.\"+(0<=t?t:\"\")+\".\"+(0<r.length?\"0l\"+r.length:\"\")}\n",
      "function C(){w=null;if(x){var a=\"/complete/search?client=heirloom-srp&hl=\"+hl+\"&json=t&callback=hS&q=\"+encodeURIComponent(x);\"undefined\"!==typeof ds&&ds&&(a+=\"&ds=\"+ds);var c=document.createElement(\"script\");c.src=a;if(null===e)a:{a=b.document;if((a=a.querySelector&&a.querySelector(\"script[nonce]\"))&&(a=a.nonce||a.getAttribute(\"nonce\"))&&d.test(a)){e=a;break a}e=\"\"}(a=e)&&c.setAttribute(\"nonce\",a);document.body.appendChild(c);x=null;w=setTimeout(C,500)}}\n",
      "function D(){for(;n.firstChild;)n.removeChild(n.firstChild);r=[];t=-1;z(!1)}function E(){var a=n.querySelector(\".scs\");a&&(a.className=\"\");0<=t?(a=n.childNodes[t],a.className=\"scs\",q=a.textContent):q=u;l.value=q}l.addEventListener(\"focus\",function(){f&&(f.style.display=\"none\")},!1);l.addEventListener(\"blur\",function(){D();f&&(f.style.display=\"\")},!1);l.addEventListener(\"keyup\",function(a){q=l.value;y=!1;13==a.which?A():27==a.which?(D(),f&&(f.style.display=\"\"),q=u,l.value=q):40==a.which?(t++,t>=r.length&&(t=-1),E()):38==a.which?(t--,-1>t&&(t=r.length-1),E()):(a=q)?(p&&(p.style.display=\"\"),x=a,w||C(),u=a):(p&&(p.style.display=\"none\"),z(!1),D(),u=\"\",y=!0)},!1);m.addEventListener(\"click\",A,!1);p.addEventListener(\"click\",function(){l.value=\"\";p.style.display=\"none\";z(!1)},!1);k.addEventListener(\"click\",function(){l.focus()},!1);window.hS=function(a){if(!y){D();0==a[1].length&&z(!1);for(var c=0;c<a[1].length;c++){var h=a[1][c][0],v=document.createElement(\"div\");v.innerHTML=h;v.addEventListener(\"mousedown\",function(B){B.preventDefault();return!1},!1);h=h.replace(/<\\/?b>/g,\"\");v.addEventListener(\"click\",function(B){return function(){t=B;A();E();D();g.submit()}}(c),!1);n.appendChild(v);z(!0);r.push(h)}}};}).call(this);})();(function(){\n",
      "function b(a){for(a=a.target||a.srcElement;a&&\"A\"!=a.nodeName;)a=a.parentElement;a&&(a.href||\"\").match(/\\/search.*[?&]tbm=isch/)&&(a.href+=\"&biw=\"+document.documentElement.clientWidth,a.href+=\"&bih=\"+document.documentElement.clientHeight)}document.addEventListener(\"click\",b,!1);document.addEventListener(\"touchStart\",b,!1);}).call(this);\n",
      "(function(){var e='xEGbXuTyF--z5OUPyaKUqAs';var sn='web';(function(){\n",
      "function x(a){if(!a||\"none\"==a.style.display)return 0;if(document.defaultView&&document.defaultView.getComputedStyle){var b=document.defaultView.getComputedStyle(a);if(b&&(\"hidden\"==b.visibility||\"0px\"==b.height&&\"0px\"==b.width))return 0}if(!a.getBoundingClientRect)return 1;var c=a.getBoundingClientRect();a=c.left+window.pageXOffset;b=c.top+window.pageYOffset;var f=c.width;c=c.height;var h=0;if(0>=c&&0>=f)return h;0>b+c?h=2:b>=(window.innerHeight||document.documentElement.clientHeight)&&(h=4);if(0>\n",
      "a+f||a>=(window.innerWidth||document.documentElement.clientWidth))h|=8;return h||1};var y=e,z=sn,H=[];function I(a,b,c){a=\"/gen_204?atyp=csi&s=\"+(z||\"web\")+\"&t=\"+a+(\"&lite=1&ei=\"+y+\"&conn=\"+(window.navigator&&window.navigator.connection?window.navigator.connection.type:-1)+b);b=\"&rt=\";for(var f in c)a+=b+f+\".\"+c[f],b=\",\";return a}function J(a){a={prt:a};window.wsrt&&(a.wsrt=window.wsrt);return a}function K(a){window.ping?window.ping(a):(new Image).src=a}\n",
      "(function(){for(var a=(new Date).getTime()-window.start,b=J(a),c=0,f=0,h=0,A=document.getElementsByTagName(\"img\"),n=\"&imn=\"+A.length+\"&biw=\"+window.innerWidth+\"&bih=\"+window.innerHeight,L=function(g,p){g.onload=function(){f=(new Date).getTime()-window.start;p&&++t==h&&(c=f,B());g.onload=null}},B=function(){n+=\"&ima=\"+h;b.aft=c;K(I(\"aft\",n,b))},t=0,M=0,d=void 0;d=A[M++];){var q=x(d),r=1==q;r&&++h;var m=d.hasAttribute(\"data-ilite\"),u=d.hasAttribute(\"data-deferred\")||m,C=d.getAttribute(\"data-src\")||\n",
      "d.getAttribute(\"data-lzysrc\");H.push([q,u,!u&&C,google.ldi&&d.id&&google.ldi[d.id]||m&&C]);m=(q=d.complete&&!u)&&Number(d.getAttribute(\"data-iml\"))||0;q&&m?(r&&++t,m&&(d=m-window.start,r&&(c=Math.max(c,d)),f=Math.max(f,d))):L(d,r)}c||(c=a);f||(f=c);t==h&&B();google.rglh&&google.rglh();window.addEventListener(\"load\",function(){window.setTimeout(function(){b.ol=(new Date).getTime()-window.start;b.iml=f;var g=window.performance&&window.performance.timing;g&&(b.rqst=g.responseEnd-g.requestStart,b.rspt=\n",
      "g.responseEnd-g.responseStart);for(var p=g=0,D=0,E=0,F=0,N=0,k;k=H[N++];){var l=k[0],v=k[1],O=k[2];k=k[3];var P=0==l,w=l&8,G=l&4;l=1==l||2==l||w&&!G;!l||w||v&&!k||++D;v&&(l&&k&&++g,G&&!k&&++p);P||w?O||++F:v||++E}n+=\"&ime=\"+D+(\"&imex=\"+E+\"&imeh=\"+F)+(\"&imea=\"+g+\"&imeb=\"+p);K(I(\"all\",n,b))},0)},!1)})();}).call(this);})();\n",
      "(function(){var e='xEGbXuTyF--z5OUPyaKUqAs';(function(){\n",
      "var a=e,b=window.performance&&window.performance.navigation;b&&2==b.type&&window.ping(\"/gen_204?ct=backbutton&ei=\"+a);}).call(this);})();(function(){\n",
      "var b=[function(){google.tick&&google.tick(\"load\",\"dcl\")}];google.dclc=function(a){b.length?b.push(a):a()};function c(){for(var a;a=b.shift();)a()}window.addEventListener?(document.addEventListener(\"DOMContentLoaded\",c,!1),window.addEventListener(\"load\",c,!1)):window.attachEvent&&window.attachEvent(\"onload\",c);}).call(this);(function(){(function(){google.csct={};google.csct.ps='AOvVaw3Pv5Fcq7uUHkseYHmI4BV5\\x26ust\\x3d1587319620433592';})();})();(function(){(function(){google.csct.rd=true;})();})();google.drty&&google.drty();\n",
      "b'5 5 1 1 9 4 3 5 6 0 0 4 7 O f o d a n a o t e r a c h i e v e m e n t s t e r v e t e r c a r r i n h o c o m p r a s A t \\xc3\\xa9 0 f a t o t e r a c h i e v e m e n t s t u d o b e m c a r r i n h o c o m p r a b s i c o p r a q q s i t e c o m p r a o n l i n e'\n"
     ]
    }
   ],
   "source": [
    "google = \"https://www.google.com/search?q=\"+textoPesquisa\n",
    "efarsas = \"http://www.e-farsas.com/?s=\"+textoPesquisa\n",
    "f = requests.get(google)\n",
    "#print(f.text)\n",
    "\n",
    "class MyHTMLParser(HTMLParser):\n",
    "    def handle_starttag(self, tag, attrs):\n",
    "        #print(\"Encountered a start tag:\", tag)\n",
    "        ''\n",
    "\n",
    "    def handle_endtag(self, tag):\n",
    "        #print(\"Encountered an end tag :\", tag)\n",
    "        ''\n",
    "\n",
    "    def handle_data(self, data):\n",
    "        print(data)\n",
    "\n",
    "parser = MyHTMLParser()\n",
    "#teste = parser.feed(f.text)\n",
    "parser.feed(f.text)\n",
    "\n",
    "textoPesquisa = ' '.join(e for e in textoPesquisa if e.isalnum()).encode('utf8')\n",
    "\n",
    "print(textoPesquisa)\n",
    "for url in search(textoPesquisa, stop=5):\n",
    "    print(url)\n"
   ]
  },
  {
   "cell_type": "code",
   "execution_count": 28,
   "metadata": {},
   "outputs": [
    {
     "name": "stdout",
     "output_type": "stream",
     "text": [
      "55 11 94356-0047 O foda € nao ter achievements ter ve ter carrinho compras Até 0 fato ter achievements tudo bem carrinho compra bsico pra qq site compra online \n",
      "https://g1.globo.com/busca/?q=5+5+%20+1+1+%20+9+4+3+5+6+-+0+0+4+7+%20+O+%20+f+o+d+a+%20+%E2%82%AC+%20+n+a+o+%20+t+e+r+%20+a+c+h+i+e+v+e+m+e+n+t+s+%20+t+e+r+%20+v+e+%20+t+e+r+%20+c+a+r+r+i+n+h+o+%20+c+o+m+p+r+a+s+%20+A+t+%C3%A9+%20+0+%20+f+a+t+o+%20+t+e+r+%20+a+c+h+i+e+v+e+m+e+n+t+s+%20+t+u+d+o+%20+b+e+m+%20+c+a+r+r+i+n+h+o+%20+c+o+m+p+r+a+%20+b+s+i+c+o+%20+p+r+a+%20+q+q+%20+s+i+t+e+%20+c+o+m+p+r+a+%20+o+n+l+i+n+e+%20\n",
      "Prefeitura de Várzea Grande (MT) divulga lista de beneficiários do programa Minha Casa, Minha Vida e dá prazo para resolver pendências\n",
      "O secretário de Desenvolvimento Urbano... — ... iniciados pelas letras D, E, F;\n",
      "Superintendente da Caixa tira dúvidas sobre auxílio emergencial de R$600\n",
      "Muitas filas estão sendo formadas nas agências de pessoas que buscam o benefício\n",
      "Hospitais, asilos e famílias recebem doação de 45 t de alimentos do MST no Paraná\n",
      "... estão grãos, frutas, legumes, tubérculos, folhosas, leite e mel. De 7 a 13 de abril, outras 35 toneladas de alimentos tinham sido... — ... integral ao Hospital de Clínicas da Universidade Federal do Paraná (UFPR);\n",
      "cerca de 3 toneladas de alimentos foram distribuídas...\n",
      "Operação no Paraná apreende fuzis e 8,2 t de maconha que seriam enviados para o RJ, diz polícia\n",
      "... Brilhante (MS), em fevereiro, com 2,6 t da droga apreendidas.\n",
      "Segundo a PRF, uma mulher foi presa em Palotina. O segundo suspeito...\n",
      "Filha que teria desviado R$ 2 milhões de empresa implorou ao pai para não ser morta, conta delegado: 'Não faça isso, eu te amo'\n",
      "Segundo o delegado, o pai matou a filha porque ela teria desviado R$ 2 milhões de um comércio que os dois... — ... de um ano, a filha, com ajuda de outra funcionária, desviou R$ 2 milhões e, desde então, eles brigam com frequência. Ele disse...\n",
      "Página 3 para cadastro no programa de auxílio emergencial no site da Caixa\n",
      "4. Em seguida... — ... de auxílio emergencial de R$ 600 no site da Caixa\n",
      "5. Assim que chegar por SMS, o código de verificação deve ser colocado no...\n",
      "42 milhões de brasileiros se habilitam para receber auxílio emergencial de R$ 600\n",
      "Número de beneficiados com o programa de socorro do Governo Federal pode chegar a 70 milhões.\n",
      "Fim das Contas fala sobre o auxílio emergencial de R$ 600\n",
      "Fim das Contas fala sobre o auxílio emergencial de R$ 600\n",
      "A partir de segunda-feira (20) será possível corrigir cadastro.\n",
      "População se aglomera em filas em busca de conseguir acesso ao auxílio de R$ 600\n",
      "População se aglomera em filas em busca de conseguir acesso ao auxílio de R$ 600\n",
      "Hortolândia abre 25 vagas de emprego com salário de R$ 1.918\n",
      "... de Hortolândia (SP) abriu 25 vagas para o cargo de agente de políticas sociais, com especialidade como agente de saneamento I... — ... de R$ 1.918.\n",
      "Os contratados atuarão em ações relacionadas ao combate e à prevenção da dengue. O regime será da Consolidação...\n",
      "Quarenta e dois milhões de trabalhadores já estão habilitados a receber auxílio de R$ 600\n",
      "O número pode chegar a 70 milhões. O auxílio é para informais, autônomos e microempreendedores individuais, maiores de 18 anos.\n",
      "Câmara aprova projeto que dispensa CPF e estende auxílio de R$ 600 a outros trabalhadores\n",
      "Projeto inclui mães adolescentes e dobra benefício de pais solteiros que são chefes de família.\n",
      "Busca por auxílio de R$ 600 provoca longas filas sem necessidade no ES\n",
      "Mesmo com a orientação pra manter o afastamento social durante o combate ao coronavírus, não é difícil ver pessoas aglomeradas, principalmente nas filas pra receber o auxílio emergencial nas agências da Caixa Econômica Federal.\n",
      "Governo de MS prevê queda estimada de R$ 280 milhões na arrecadação de maio\n",
      "Governo de MS prevê queda estimada de R$ 280 milhões na arrecadação de maio\n",
      "© Copyright 2020 Globo Comunicação e Participações S.A. Política de Privacidade\n"
     ]
    }
   ],
   "source": [
    "import urllib.request\n",
    "from bs4 import BeautifulSoup\n",
    "\n",
    "print(textoPesquisa)\n",
    "\n",
    "urlGoogle = \"https://www.google.com/search?q=\"\n",
    "\n",
    "urlG1 = \"https://g1.globo.com/busca/?q=\"\n",
    "\n",
    "for word in textoPesquisa:\n",
    "    #fazendo parse das palavras de busca no formato aceito em url\n",
    "    urlGoogle = urlGoogle + urllib.parse.quote(word) + \"+\"\n",
    "    urlG1 = urlG1 + urllib.parse.quote(word) + \"+\"\n",
    "    \n",
    "#removendo o \"+\" que fica sobrando no fim\n",
    "urlGoogle = urlGoogle[:urlGoogle.rfind('+')]\n",
    "urlG1 = urlG1[:urlG1.rfind('+')]\n",
    "#urlGoogle\n",
    "\n",
    "print(urlG1)\n",
    "from urllib.request import urlopen, Request\n",
    "headers = {'User-Agent': 'Mozilla/5.0 (Windows NT 6.1) AppleWebKit/537.36 (KHTML, like Gecko) Chrome/41.0.2228.0 Safari/537.3'}\n",
    "req = Request(url=urlG1, headers=headers) \n",
    "html = urlopen(req).read() \n",
    "#print(html) \n",
    "#req = urllib.request(url)\n",
    "#html = urllib.request.urlopen(urlGoogle).read()\n",
    "soup = BeautifulSoup(html)\n",
    "\n",
    "# kill all script and style elements\n",
    "for script in soup([\"script\", \"style\"]):\n",
    "    script.extract()    # rip it out\n",
    "\n",
    "# get text\n",
    "text = soup.get_text()\n",
    "\n",
    "# break into lines and remove leading and trailing space on each\n",
    "lines = (line.strip() for line in text.splitlines())\n",
    "# break multi-headlines into a line each\n",
    "chunks = (phrase.strip() for line in lines for phrase in line.split(\"  \"))\n",
    "# drop blank lines\n",
    "text = '\\n'.join(chunk for chunk in chunks if chunk)\n",
    "texts = text.split('\\n') \n",
    "text = \"\"\n",
    "text = '\\n'.join(txt for txt in texts if len(txt) > 50)\n",
    "\n",
    "print(text)"
   ]
  },
  {
   "cell_type": "code",
   "execution_count": 59,
   "metadata": {},
   "outputs": [],
   "source": [
    "def PuxarTextoPagina(url_):\n",
    "    import urllib\n",
    "    from bs4 import BeautifulSoup\n",
    "    from urllib.request import urlopen, Request\n",
    "    headers = {'User-Agent': 'Mozilla/5.0 (Windows NT 6.1) AppleWebKit/537.36 (KHTML, like Gecko) Chrome/41.0.2228.0 Safari/537.3'}\n",
    "    req = Request(url=url_, headers=headers) \n",
    "    html = urlopen(req).read() \n",
    "    soup = BeautifulSoup(html)\n",
    "\n",
    "    # kill all script and style elements\n",
    "    for script in soup([\"script\", \"style\"]):\n",
    "        script.extract()    # rip it out\n",
    "\n",
    "    # get text\n",
    "    text = soup.get_text()\n",
    "\n",
    "    # break into lines and remove leading and trailing space on each\n",
    "    lines = (line.strip() for line in text.splitlines())\n",
    "    # break multi-headlines into a line each\n",
    "    chunks = (phrase.strip() for line in lines for phrase in line.split(\"  \"))\n",
    "    # drop blank lines\n",
    "    text = '\\n'.join(chunk for chunk in chunks if chunk)\n",
    "    texts = text.split('\\n') \n",
    "    #text = \"\"\n",
    "    text = '\\n\\n'.join(txt for txt in texts if (len(txt) > 50) & (txt[len(txt)-1] in ['.',':']))\n",
    "    print(text)"
   ]
  },
  {
   "cell_type": "code",
   "execution_count": 69,
   "metadata": {},
   "outputs": [
    {
     "name": "stdout",
     "output_type": "stream",
     "text": [
      "Sem mencionar presidente Jair Bolsonaro, que participou de ato no qual se pediu intervenção militar, presidente da Câmara afirmou que 'defender ditadura é estimular a desordem'.\n",
      "\n",
      "O presidente da Câmara dos Deputados, Rodrigo Maia (DEM-RJ), publicou neste domingo (19), em uma rede social, mensagem na qual repudia \"todo e qualquer ato que defenda a ditadura, atentando contra a Constituição\".\n",
      "\n",
      "Neste domingo (19), o presidente Jair Bolsonaro discursou durante um ato em Brasília que defendia uma intervenção militar, o que não está previsto na Constituição. Do alto de uma caminhonete, Bolsonaro disse que ele e seus apoiadores não querem negociar nada e voltou a criticar o que chamou de \"velha política\".\n",
      "\n",
      "Sem mencionar Bolsonaro, Rodrigo Maia afirmou que \"defender a ditadura é estimular a desordem\", é \"flertar com o caos\". Segundo o presidente da Câmara, é \"o Estado Democrático de Direito que dá ao Brasil um ordenamento jurídico capaz de fazer o país avançar com transparência e justiça social\".\n",
      "\n",
      "Maia disse que, para vencer a \"guerra contra o corovírus\", é preciso haver \"ordem, disciplina democrática e solidariedade com o próximo\".\n",
      "\n",
      "Ele ressaltou que \"pregar uma ruptura democrática\" diante das mortes ocorridas em razão da doença, \"é uma crueldade imperdoável com as famílias das vítimas e um desprezo com doentes e desempregados\".\n",
      "\n",
      "Segundo o presidente da Câmara, não há tempo \"a perder com retóricas golpistas\".\n",
      "\n",
      "Para Maia, no Brasil, é preciso lutar contra o coronavírus e \"o vírus do autoritarismo\". \"É mais trabalhoso, mas venceremos\", afirmou.\n",
      "\n",
      "Leia a íntegra da mensagem publicada por Rodrigo Maia:\n",
      "\n",
      "\"O mundo inteiro está unido contra o coronavírus. No Brasil, temos de lutar contra o corona e o vírus do autoritarismo. É mais trabalhoso, mas venceremos.\n",
      "\n",
      "Em nome da Câmara dos Deputados, repudio todo e qualquer ato que defenda a ditadura, atentando contra a Constituição.\n",
      "\n",
      "Para vencer esta guerra contra o coronavírus precisamos de ordem, disciplina democrática e solidariedade com o próximo.\n",
      "\n",
      "Defender a ditadura é estimular a desordem. É flertar com o caos. Pois é o estado democrático de direito que dá ao Brasil um ordenamento jurídico capaz de fazer o país e avançar com transparência e justiça social.\n",
      "\n",
      "São, ao todo, 2.462 mortes registradas no Brasil. Pregar uma ruptura democrática diante dessas mortes é uma crueldade imperdoável com as família das vítimas e um desprezo com doentes e desempregados.\n",
      "\n",
      "Não temos tempo a perder com retóricas golpistas. É urgente continuar ajudando os mais pobres, os que estão doentes esperando tratamento em UTIs e trabalhar para manter os empregos.\n",
      "\n",
      "As notícias que você não pode perder diretamente no seu e-mail.\n",
      "\n",
      "Para se inscrever, entre ou crie uma Conta Globo gratuita.\n",
      "\n",
      "Você acaba de se inscrever na newsletter Resumo do dia.\n",
      "\n",
      "© Copyright 2000-2020 Globo Comunicação e Participações S.A.\n"
     ]
    }
   ],
   "source": [
    "PuxarTextoPagina('https://g1.globo.com/politica/noticia/2020/04/19/maia-diz-repudiar-todo-e-qualquer-ato-que-defenda-a-ditadura.ghtml')\n",
    "#len('teste')\n",
    "#'teste'[0]\n",
    "#'teste'[len('teste')-1]"
   ]
  },
  {
   "cell_type": "code",
   "execution_count": 14,
   "metadata": {},
   "outputs": [
    {
     "name": "stdout",
     "output_type": "stream",
     "text": [
      "Requirement already satisfied: google in c:\\programdata\\anaconda3\\lib\\site-packages (2.0.3)\n",
      "Requirement already satisfied: beautifulsoup4 in c:\\programdata\\anaconda3\\lib\\site-packages (from google) (4.8.0)\n",
      "Requirement already satisfied: soupsieve>=1.2 in c:\\programdata\\anaconda3\\lib\\site-packages (from beautifulsoup4->google) (1.9.3)\n"
     ]
    }
   ],
   "source": [
    "!pip install google"
   ]
  },
  {
   "cell_type": "code",
   "execution_count": 70,
   "metadata": {},
   "outputs": [
    {
     "name": "stdout",
     "output_type": "stream",
     "text": [
      "Protestos contra o confinamento crescem nos EUA incentivados por Donald Trump | Internacional | EL PAÍS Brasil\n",
      "espamebracatengassineFAÇA LOGINAssine por € 1Dados pessoaisAssinantesNewslettersEventos e experiênciasMinha atividadePreferências\n",
      "e desligamentosairInternacionalassineFAÇA LOGINAssine por € 1Dados pessoaisAssinantesNewslettersEventos e experiênciasMinha atividadePreferências\n",
      "e desligamentosairInternacionalPandemia de coronavírusProtestos contra o confinamento crescem nos EUA incentivados por Donald TrumpPequenas manifestações em todo o país buscam pressionar os governadores a acabar com as restrições que paralisam a economiaPablo Ximénez de SandovalLos Angeles - 19 abr 2020 - 21:43 UTCCartaz diz ‘Parem com a tirania’ na manifestação de sábado em Austin contra o confinamento.\n",
      "18/04/2020 ONLY FOR USE IN SPAINBob Daemmrich\n",
      "/ Europa PressNovos protestos em diferentes cidades dos Estados Unidos, convocados principalmente por seguidores de Donald Trump, desafiaram neste fim de semana as medidas de confinamento pelo coronavírus para pressionar os governadores a colocar fim às restrições que estão paralisando a economia. Austin, capital do Texas, teve a concentração mais numerosa na manhã de sábado. Eram apenas algumas centenas de pessoas com a habitual parafernália do universo Trump. Rebelaram-se contra medidas que são apoiadas por municípios, Estados e o Governo federal. E, no entanto, o fizeram encorajados pelo próprio presidente. Por debaixo da colaboração entre administrações e um vastíssimo sentimento de unidade nacional nesta crise, começam a surgir conflitos e acusações, o ambiente em que Trump se sente mais confortável.AO VIVO | Últimas notícias sobre o coronavírus no Brasil e no mundoProblemas grandes, líderes pequenosTristes, generosos, apaixonados? Somos ratos de laboratório em um experimento naturalQuando a maioria dos Estados Unidos completará entre três e quatro semanas de confinamento, a principal preocupação de Trump, e de todo o país, é reabrir a economia o quanto antes. Apesar do enorme esforço para dar ajudas diretas aos cidadãos e suspender os despejos, a economia dos Estados Unidos depende da atividade de muita gente que vive de semana em semana. Cerca de 40% do país não tem 400 dólares (2.094 reais) economizados para um imprevisto. Em algum momento será insustentável. Desde o início das restrições, 22 milhões de pessoas solicitaram o seguro desemprego. Politicamente, o bom andamento da economia era o único trunfo geral com que Trump contava para buscar a reeleição em novembro.Na sexta-feira, o mesmo presidente que aparece todos os dias para explicar a resposta à crise tuitou em letras maiúsculas: “Libertem Michigan!”, “Libertem Minnesota!”, “Libertem Virginia!”. Trump acompanhou, assim, a corrente mais marginal e conspiratória da direita on-line na qual estão seus seguidores mais fervorosos. Na quarta-feira, um grupo de manifestantes se reuniu nas capitais de Michigan, Kentucky e Carolina do Norte, armados com fuzis de assalto, para desafiar as ordens de quarentena. Na sexta-feira a cena se repetiu em Ohio, Utah, Nevada, Indiana e Maryland.Os números continuam crescendo e não vão deixar de subir em breve. Já existem 722.000 casos confirmados e mais de 33.000 mortos nos Estados Unidos pela covid-19, de acordo com dados da Universidade Johns Hopkins deste domingo. Trump está se debatendo contra a ideia de que não tem nada mais a fazer além de gerir o vírus como puder, como qualquer outro governante do mundo. Em uma entrevista coletiva, com centenas de mortos por dia em Nova York, o presidente se gabou de que suas intervenções para falar sobre o coronavírus tinham muita audiência. Trump faz o cálculo do que beneficia sua imagem não semana a semana, mas minuto a minuto.O novo campo de batalha, que pode durar horas ou anos, é a responsabilidade de fazer testes diagnósticos em massa. O público já percebeu que essa é a verdadeira chave a considerar para reabrir a economia. Milhões deles precisam ser feitos. Primeiro Trump disse que dependia dele reabrir a economia. Depois, quando se constatou que a realização dos testes será algo demorado e que, no momento, não há capacidade para realizar todos os testes necessários, ele afirmou que dependia dos Estados.O governador de Nova York, Andrew Cuomo, está explicando há dias em entrevistas que é difícil politicamente se tornar responsável por fazer testes de coronavírus em milhões de pessoas, porque é uma tarefa muito complexa logisticamente. “É o grande desafio. Neste momento não há capacidade para fazê-lo em escala. Temos de trabalhar em conjunto com o Governo federal e estou confiante de que o faremos”, disse Cuomo em uma entrevista coletiva neste domingo. Todo mundo sabe o que deve ser feito, disse Cuomo com essa atitude direta e aberta que o tornou popular nessa crise. A polêmica é ver quem o assume.Trump tem claro que não o assumirá. Em seu mundo, ele é o primeiro que disse que é preciso fazer testes e, se algo der errado, a culpa é dos governadores, que são os que devem fazê-los. Quem se informa apenas por Trump vê um país no qual o presidente disponibilizou aos Estados testes de sobra e os governadores, especialmente se são democratas, se queixam para esconder sua inépcia. Os governadores “não querem usar toda a capacidade de fazer testes que nós criamos”, disse no sábado.A realidade é mais complexa. No domingo, os governadores democratas da Virgínia e de Michigan, e o republicano de Maryland, disseram que não existe capacidade de fazer todos os testes que seriam necessários para reabrir a economia em breve. O principal problema é que, embora existam laboratórios, não há disponibilidade dos materiais necessários. Para comprá-los, precisam de ajuda federal.Qual é o crédito de Trump a esta altura junto ao grosso da população norte-americana é a próxima pergunta. As pesquisas dizem que uma grande maioria da população entendeu a gravidade da ameaça e apoia, por enquanto, as medidas de confinamento que congelaram a economia. O apoio chega a 81%, de acordo com uma pesquisa da Quinnipac divulgada há dez dias, 68% entre os republicanos. Os protestos deste fim de semana teriam sido anedóticos em qualquer outro cenário. Num mundo em que o presidente dos Estados Unidos tuíta encorajando-os, não.As fontes de informação do presidenteOs grupelhos que estão fazendo os protestos nos Estados Unidos parecem ter uma linha direta com o presidente Donald Trump. Em Austin, o grande momento da manifestação foi quando passou em cima de uma caminhonete o comentarista de rádio Alex Jones, que há duas décadas faz Info Wars nessa cidade. O programa de Jones foi sido o alto-falante de todas as teorias mais disparatadas e macabras contra as instituições norte-americanas. Ele foi vetado em todas as plataformas sociais e condenado por insultar os pais das crianças assassinadas no massacre de Sandy Hook.Antes de disputar a presidência, Trump transitava nessa direita exaltada de vídeos e podcasts aos quais ninguém prestava muita atenção, que se define como direita alternativa. Com sua chegada à Casa Branca, ideias e atitudes marginais que nunca tiveram força no debate público nos Estados Unidos agora surgem na conta de Twitter do presidente. No meio disso está o resto do país. A responsabilidade da gestão durante mais de três anos não mudou isto nem um pingo. A maior crise sanitária e econômica em um século tampouco.Informações sobre o coronavírus:- Clique para seguir a cobertura em tempo real, minuto a minuto, da crise da Covid-19;- O mapa do coronavírus no Brasil e no mundo: assim crescem os casos dia a dia, país por país;- O que fazer para se proteger? Perguntas e respostas sobre o coronavírus;- Guia para viver com uma pessoa infectada pelo coronavírus;- Clique para assinar a newsletter e seguir a cobertura diária.Adere aMais informações >Devido às circunstâncias excepcionais, o EL PAÍS está oferecendo todos os seus conteúdos digitais gratuitamente. As informações relativas ao coronavírus continuarão abertas enquanto persistir a gravidade da crise.Dezenas de jornalistas trabalham sem descanso para levar até você a cobertura mais rigorosa da pandemia e cumprir sua missão de serviço público. Se quiser apoiar nosso jornalismo, pode fazê-lo aqui por 1 euro no primeiro mês (10 euros a partir de junho). Acesse os fatos, assine o EL PAÍS.Inscreva-seMais informaçõesPandemia de coronavírusPresidente da CIDH: “Coronavírus pode ser desculpa para limitar ainda mais os direitos dos mais vulneráveis”Pandemia de coronavírusAmérica Latina tenta deixar ideologias de lado para priorizar os planos econômicos newslettersReceba o boletim diário do EL PAÍS BrasilO mais visto em ...Top 50EL PAÍSInternacional© EDICIONES EL PAÍS S.L. ContatoVenda de conteúdosPublicidade Aviso legalPolítica cookies Mapa EL PAÍS en KIOSKOyMÁSÍndiceRSS\n"
     ]
    }
   ],
   "source": [
    "import urllib\n",
    "from bs4 import BeautifulSoup\n",
    "\n",
    "url = \"https://brasil.elpais.com/internacional/2020-04-19/protestos-contra-o-confinamento-crescem-nos-eua-incentivados-por-donald-trump.html\"\n",
    "html = urllib.request.urlopen(url).read()\n",
    "soup = BeautifulSoup(html)\n",
    "\n",
    "# kill all script and style elements\n",
    "for script in soup([\"script\", \"style\"]):\n",
    "    script.extract()    # rip it out\n",
    "\n",
    "# get text\n",
    "text = soup.get_text()\n",
    "\n",
    "# break into lines and remove leading and trailing space on each\n",
    "lines = (line.strip() for line in text.splitlines())\n",
    "# break multi-headlines into a line each\n",
    "chunks = (phrase.strip() for line in lines for phrase in line.split(\"  \"))\n",
    "# drop blank lines\n",
    "text = '\\n'.join(chunk for chunk in chunks if chunk)\n",
    "\n",
    "print(text)"
   ]
  },
  {
   "cell_type": "code",
   "execution_count": null,
   "metadata": {},
   "outputs": [],
   "source": [
    "# Program to measure similarity between  \n",
    "# two sentences using cosine similarity. \n",
    "from nltk.corpus import stopwords \n",
    "from nltk.tokenize import word_tokenize \n",
    "  \n",
    "# X = input(\"Enter first string: \").lower() \n",
    "# Y = input(\"Enter second string: \").lower() \n",
    "X =\"I love horror movies\"\n",
    "Y =\"Lights out is a horror movie\"\n",
    "  \n",
    "# tokenization \n",
    "X_list = word_tokenize(X)  \n",
    "Y_list = word_tokenize(Y) \n",
    "  \n",
    "# sw contains the list of stopwords \n",
    "sw = stopwords.words('english')  \n",
    "l1 =[];l2 =[] \n",
    "  \n",
    "# remove stop words from string \n",
    "X_set = {w for w in X_list if not w in sw}  \n",
    "Y_set = {w for w in Y_list if not w in sw} \n",
    "  \n",
    "# form a set containing keywords of both strings  \n",
    "rvector = X_set.union(Y_set)  \n",
    "for w in rvector: \n",
    "    if w in X_set: l1.append(1) # create a vector \n",
    "    else: l1.append(0) \n",
    "    if w in Y_set: l2.append(1) \n",
    "    else: l2.append(0) \n",
    "c = 0\n",
    "  \n",
    "# cosine formula  \n",
    "for i in range(len(rvector)): \n",
    "        c+= l1[i]*l2[i] \n",
    "cosine = c / float((sum(l1)*sum(l2))**0.5) \n",
    "print(\"similarity: \", cosine) "
   ]
  }
 ],
 "metadata": {
  "kernelspec": {
   "display_name": "Python 3",
   "language": "python",
   "name": "python3"
  },
  "language_info": {
   "codemirror_mode": {
    "name": "ipython",
    "version": 3
   },
   "file_extension": ".py",
   "mimetype": "text/x-python",
   "name": "python",
   "nbconvert_exporter": "python",
   "pygments_lexer": "ipython3",
   "version": "3.7.4"
  }
 },
 "nbformat": 4,
 "nbformat_minor": 2
}
