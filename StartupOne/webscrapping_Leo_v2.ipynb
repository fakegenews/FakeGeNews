{
 "cells": [
  {
   "cell_type": "code",
   "execution_count": 1,
   "metadata": {
    "colab": {
     "base_uri": "https://localhost:8080/",
     "height": 138
    },
    "colab_type": "code",
    "id": "auMlScXj8ZeO",
    "outputId": "ea4c28d1-4a4f-441e-874d-e07016301eb8"
   },
   "outputs": [],
   "source": [
    "#!pip install requests2\n",
    "#!pip install beautifulsoup4\n",
    "#!pip install selenium"
   ]
  },
  {
   "cell_type": "code",
   "execution_count": 2,
   "metadata": {
    "colab": {},
    "colab_type": "code",
    "id": "SQ6XJOt38Dio"
   },
   "outputs": [],
   "source": [
    "import time\n",
    "import requests\n",
    "import pandas as pd\n",
    "from bs4 import BeautifulSoup\n",
    "from selenium import webdriver\n",
    "from selenium.webdriver.firefox.options import Options\n",
    "import json\n",
    "import urllib.parse"
   ]
  },
  {
   "cell_type": "code",
   "execution_count": 16,
   "metadata": {
    "colab": {
     "base_uri": "https://localhost:8080/",
     "height": 34
    },
    "colab_type": "code",
    "id": "wwoUBmgL-6nj",
    "outputId": "3367f5bf-c290-4a79-956f-b39b550ab564"
   },
   "outputs": [
    {
     "data": {
      "text/plain": [
       "'https://g1.globo.com/busca/?q=Mortos+corona+virus+parana&order=relevant&species=not%C3%ADcias'"
      ]
     },
     "execution_count": 16,
     "metadata": {},
     "output_type": "execute_result"
    }
   ],
   "source": [
    "#String da busca\n",
    "busca = 'Mortos corona virus parana'\n",
    "\n",
    "#Dividindo em array acredito que quando pegar as palavras do texto virá em array\n",
    "arrayBusca = busca.split(' ')\n",
    "\n",
    "#url padrão para busca do G1 selecionando apenas noticias e ordenando por relevancia\n",
    "#https://g1.globo.com/busca/?q=Lula+trai%C3%A7%C3%A3o+desonesto+Par%C3%A1&order=relevant&species=not%C3%ADcias\n",
    "urlG1 = \"https://g1.globo.com/busca/?q=\"\n",
    "\n",
    "for word in arrayBusca:\n",
    "  #fazendo parse das palavras de busca no formato aceito em url\n",
    "  urlG1 = urlG1 + urllib.parse.quote(word) + \"+\"\n",
    "  \n",
    "#removendo o \"+\" que fica sobrando no fim\n",
    "urlG1 = urlG1[:urlG1.rfind('+')]+\"&order=relevant&species=not%C3%ADcias\"\n",
    "urlG1"
   ]
  },
  {
   "cell_type": "code",
   "execution_count": 17,
   "metadata": {
    "colab": {
     "base_uri": "https://localhost:8080/",
     "height": 421
    },
    "colab_type": "code",
    "id": "osK2x1ig-ivH",
    "outputId": "81541f0f-d1df-4c3e-ab99-0ac36d98ca02"
   },
   "outputs": [
    {
     "ename": "NoSuchElementException",
     "evalue": "Message: Unable to locate element: //*[@id=\"glb-materia\"]/div[2]\n",
     "output_type": "error",
     "traceback": [
      "\u001b[1;31m---------------------------------------------------------------------------\u001b[0m",
      "\u001b[1;31mNoSuchElementException\u001b[0m                    Traceback (most recent call last)",
      "\u001b[1;32m<ipython-input-17-54477ee437b6>\u001b[0m in \u001b[0;36m<module>\u001b[1;34m\u001b[0m\n\u001b[0;32m     17\u001b[0m \u001b[1;31m##SELECIONANDO ATRIBUTOS-----------------------------------------------------------\u001b[0m\u001b[1;33m\u001b[0m\u001b[1;33m\u001b[0m\u001b[1;33m\u001b[0m\u001b[0m\n\u001b[0;32m     18\u001b[0m \u001b[1;31m#pegando titulo da primeira materia\u001b[0m\u001b[1;33m\u001b[0m\u001b[1;33m\u001b[0m\u001b[1;33m\u001b[0m\u001b[0m\n\u001b[1;32m---> 19\u001b[1;33m \u001b[0mtitulo_element\u001b[0m \u001b[1;33m=\u001b[0m \u001b[0mdriver\u001b[0m\u001b[1;33m.\u001b[0m\u001b[0mfind_element_by_xpath\u001b[0m\u001b[1;33m(\u001b[0m\u001b[1;34m'//*[@id=\"glb-materia\"]/div[2]'\u001b[0m\u001b[1;33m)\u001b[0m\u001b[1;33m\u001b[0m\u001b[1;33m\u001b[0m\u001b[0m\n\u001b[0m\u001b[0;32m     20\u001b[0m \u001b[0mtitulo_content\u001b[0m \u001b[1;33m=\u001b[0m \u001b[0mtitulo_element\u001b[0m\u001b[1;33m.\u001b[0m\u001b[0mget_attribute\u001b[0m\u001b[1;33m(\u001b[0m\u001b[1;34m'outerHTML'\u001b[0m\u001b[1;33m)\u001b[0m\u001b[1;33m\u001b[0m\u001b[1;33m\u001b[0m\u001b[0m\n\u001b[0;32m     21\u001b[0m \u001b[1;33m\u001b[0m\u001b[0m\n",
      "\u001b[1;32m~\\Anaconda3\\lib\\site-packages\\selenium\\webdriver\\remote\\webdriver.py\u001b[0m in \u001b[0;36mfind_element_by_xpath\u001b[1;34m(self, xpath)\u001b[0m\n\u001b[0;32m    392\u001b[0m             \u001b[0melement\u001b[0m \u001b[1;33m=\u001b[0m \u001b[0mdriver\u001b[0m\u001b[1;33m.\u001b[0m\u001b[0mfind_element_by_xpath\u001b[0m\u001b[1;33m(\u001b[0m\u001b[1;34m'//div/td[1]'\u001b[0m\u001b[1;33m)\u001b[0m\u001b[1;33m\u001b[0m\u001b[1;33m\u001b[0m\u001b[0m\n\u001b[0;32m    393\u001b[0m         \"\"\"\n\u001b[1;32m--> 394\u001b[1;33m         \u001b[1;32mreturn\u001b[0m \u001b[0mself\u001b[0m\u001b[1;33m.\u001b[0m\u001b[0mfind_element\u001b[0m\u001b[1;33m(\u001b[0m\u001b[0mby\u001b[0m\u001b[1;33m=\u001b[0m\u001b[0mBy\u001b[0m\u001b[1;33m.\u001b[0m\u001b[0mXPATH\u001b[0m\u001b[1;33m,\u001b[0m \u001b[0mvalue\u001b[0m\u001b[1;33m=\u001b[0m\u001b[0mxpath\u001b[0m\u001b[1;33m)\u001b[0m\u001b[1;33m\u001b[0m\u001b[1;33m\u001b[0m\u001b[0m\n\u001b[0m\u001b[0;32m    395\u001b[0m \u001b[1;33m\u001b[0m\u001b[0m\n\u001b[0;32m    396\u001b[0m     \u001b[1;32mdef\u001b[0m \u001b[0mfind_elements_by_xpath\u001b[0m\u001b[1;33m(\u001b[0m\u001b[0mself\u001b[0m\u001b[1;33m,\u001b[0m \u001b[0mxpath\u001b[0m\u001b[1;33m)\u001b[0m\u001b[1;33m:\u001b[0m\u001b[1;33m\u001b[0m\u001b[1;33m\u001b[0m\u001b[0m\n",
      "\u001b[1;32m~\\Anaconda3\\lib\\site-packages\\selenium\\webdriver\\remote\\webdriver.py\u001b[0m in \u001b[0;36mfind_element\u001b[1;34m(self, by, value)\u001b[0m\n\u001b[0;32m    976\u001b[0m         return self.execute(Command.FIND_ELEMENT, {\n\u001b[0;32m    977\u001b[0m             \u001b[1;34m'using'\u001b[0m\u001b[1;33m:\u001b[0m \u001b[0mby\u001b[0m\u001b[1;33m,\u001b[0m\u001b[1;33m\u001b[0m\u001b[1;33m\u001b[0m\u001b[0m\n\u001b[1;32m--> 978\u001b[1;33m             'value': value})['value']\n\u001b[0m\u001b[0;32m    979\u001b[0m \u001b[1;33m\u001b[0m\u001b[0m\n\u001b[0;32m    980\u001b[0m     \u001b[1;32mdef\u001b[0m \u001b[0mfind_elements\u001b[0m\u001b[1;33m(\u001b[0m\u001b[0mself\u001b[0m\u001b[1;33m,\u001b[0m \u001b[0mby\u001b[0m\u001b[1;33m=\u001b[0m\u001b[0mBy\u001b[0m\u001b[1;33m.\u001b[0m\u001b[0mID\u001b[0m\u001b[1;33m,\u001b[0m \u001b[0mvalue\u001b[0m\u001b[1;33m=\u001b[0m\u001b[1;32mNone\u001b[0m\u001b[1;33m)\u001b[0m\u001b[1;33m:\u001b[0m\u001b[1;33m\u001b[0m\u001b[1;33m\u001b[0m\u001b[0m\n",
      "\u001b[1;32m~\\Anaconda3\\lib\\site-packages\\selenium\\webdriver\\remote\\webdriver.py\u001b[0m in \u001b[0;36mexecute\u001b[1;34m(self, driver_command, params)\u001b[0m\n\u001b[0;32m    319\u001b[0m         \u001b[0mresponse\u001b[0m \u001b[1;33m=\u001b[0m \u001b[0mself\u001b[0m\u001b[1;33m.\u001b[0m\u001b[0mcommand_executor\u001b[0m\u001b[1;33m.\u001b[0m\u001b[0mexecute\u001b[0m\u001b[1;33m(\u001b[0m\u001b[0mdriver_command\u001b[0m\u001b[1;33m,\u001b[0m \u001b[0mparams\u001b[0m\u001b[1;33m)\u001b[0m\u001b[1;33m\u001b[0m\u001b[1;33m\u001b[0m\u001b[0m\n\u001b[0;32m    320\u001b[0m         \u001b[1;32mif\u001b[0m \u001b[0mresponse\u001b[0m\u001b[1;33m:\u001b[0m\u001b[1;33m\u001b[0m\u001b[1;33m\u001b[0m\u001b[0m\n\u001b[1;32m--> 321\u001b[1;33m             \u001b[0mself\u001b[0m\u001b[1;33m.\u001b[0m\u001b[0merror_handler\u001b[0m\u001b[1;33m.\u001b[0m\u001b[0mcheck_response\u001b[0m\u001b[1;33m(\u001b[0m\u001b[0mresponse\u001b[0m\u001b[1;33m)\u001b[0m\u001b[1;33m\u001b[0m\u001b[1;33m\u001b[0m\u001b[0m\n\u001b[0m\u001b[0;32m    322\u001b[0m             response['value'] = self._unwrap_value(\n\u001b[0;32m    323\u001b[0m                 response.get('value', None))\n",
      "\u001b[1;32m~\\Anaconda3\\lib\\site-packages\\selenium\\webdriver\\remote\\errorhandler.py\u001b[0m in \u001b[0;36mcheck_response\u001b[1;34m(self, response)\u001b[0m\n\u001b[0;32m    240\u001b[0m                 \u001b[0malert_text\u001b[0m \u001b[1;33m=\u001b[0m \u001b[0mvalue\u001b[0m\u001b[1;33m[\u001b[0m\u001b[1;34m'alert'\u001b[0m\u001b[1;33m]\u001b[0m\u001b[1;33m.\u001b[0m\u001b[0mget\u001b[0m\u001b[1;33m(\u001b[0m\u001b[1;34m'text'\u001b[0m\u001b[1;33m)\u001b[0m\u001b[1;33m\u001b[0m\u001b[1;33m\u001b[0m\u001b[0m\n\u001b[0;32m    241\u001b[0m             \u001b[1;32mraise\u001b[0m \u001b[0mexception_class\u001b[0m\u001b[1;33m(\u001b[0m\u001b[0mmessage\u001b[0m\u001b[1;33m,\u001b[0m \u001b[0mscreen\u001b[0m\u001b[1;33m,\u001b[0m \u001b[0mstacktrace\u001b[0m\u001b[1;33m,\u001b[0m \u001b[0malert_text\u001b[0m\u001b[1;33m)\u001b[0m\u001b[1;33m\u001b[0m\u001b[1;33m\u001b[0m\u001b[0m\n\u001b[1;32m--> 242\u001b[1;33m         \u001b[1;32mraise\u001b[0m \u001b[0mexception_class\u001b[0m\u001b[1;33m(\u001b[0m\u001b[0mmessage\u001b[0m\u001b[1;33m,\u001b[0m \u001b[0mscreen\u001b[0m\u001b[1;33m,\u001b[0m \u001b[0mstacktrace\u001b[0m\u001b[1;33m)\u001b[0m\u001b[1;33m\u001b[0m\u001b[1;33m\u001b[0m\u001b[0m\n\u001b[0m\u001b[0;32m    243\u001b[0m \u001b[1;33m\u001b[0m\u001b[0m\n\u001b[0;32m    244\u001b[0m     \u001b[1;32mdef\u001b[0m \u001b[0m_value_or_default\u001b[0m\u001b[1;33m(\u001b[0m\u001b[0mself\u001b[0m\u001b[1;33m,\u001b[0m \u001b[0mobj\u001b[0m\u001b[1;33m,\u001b[0m \u001b[0mkey\u001b[0m\u001b[1;33m,\u001b[0m \u001b[0mdefault\u001b[0m\u001b[1;33m)\u001b[0m\u001b[1;33m:\u001b[0m\u001b[1;33m\u001b[0m\u001b[1;33m\u001b[0m\u001b[0m\n",
      "\u001b[1;31mNoSuchElementException\u001b[0m: Message: Unable to locate element: //*[@id=\"glb-materia\"]/div[2]\n"
     ]
    }
   ],
   "source": [
    "#SELENIUM\n",
    "option = Options()\n",
    "option.headless = True\n",
    "\n",
    "#desta forma acontece em background\n",
    "#driver = webdriver.Firefox(options=option)\n",
    "driver = webdriver.Firefox(executable_path=r'C:\\Users\\Leonardo\\Downloads\\geckodriver-v0.26.0-win64\\geckodriver.exe')\n",
    "\n",
    "##ABRINDO E NAVEGANDO NO SITE------------------------------------------------------\n",
    "#abre a url\n",
    "driver.get(urlG1)\n",
    "time.sleep(5)\n",
    "#clica no primeiro resultado - é indicado pelo numero 1 após o li, para pegar mais resultados só trocar o numero\n",
    "driver.find_element_by_xpath('//*[@id=\"content\"]/div/div/ul/li[1]').click()\n",
    "time.sleep(5)\n",
    "\n",
    "##SELECIONANDO ATRIBUTOS-----------------------------------------------------------\n",
    "#pegando titulo da primeira materia\n",
    "titulo_element = driver.find_element_by_xpath('//*[@id=\"glb-materia\"]/div[2]')\n",
    "titulo_content = titulo_element.get_attribute('outerHTML')\n",
    "\n",
    "#pegando conteudo da primeira materia\n",
    "conteudo_element = driver.find_element_by_xpath('//*[@id=\"materia-letra\"]')\n",
    "conteudo_content = conteudo_element.get_attribute('outerHTML')\n",
    "\n",
    "##EXTRAINDO CONTEUDO---------------------------------------------------------------\n",
    "#carinha pra ajudar a interpretar o html TITULO e SUB\n",
    "soupTitulo = BeautifulSoup(titulo_content, 'html.parser')\n",
    "titulo = soupTitulo.find(name='h1').get_text()\n",
    "subtitulo = soupTitulo.find(name='h2').get_text()\n",
    "\n",
    "#carinha pra ajudar a interpretar o html CONTEUDO\n",
    "soupConteudo = BeautifulSoup(conteudo_content, 'html.parser')\n",
    "conteudo_list = soupConteudo.find_all(name='p')\n",
    "conteudo = ''\n",
    "for c in conteudo_list:\n",
    "    conteudo = conteudo + c.get_text()\n",
    "\n",
    "print(\"Sutiã ------------------------------------------------------\")\n",
    "print(titulo)\n",
    "print(subtitulo)\n",
    "print(\"Conteudo ---------------------------------------------------\")\n",
    "print(conteudo)\n",
    "\n",
    "driver.quit()"
   ]
  },
  {
   "cell_type": "code",
   "execution_count": 5,
   "metadata": {},
   "outputs": [
    {
     "name": "stdout",
     "output_type": "stream",
     "text": [
      "dict_keys(['status', 'totalResults', 'articles'])\n"
     ]
    },
    {
     "data": {
      "text/plain": [
       "[{'source': {'id': None, 'name': 'Theintercept.com'},\n",
       "  'author': 'Eduardo Roberto',\n",
       "  'title': 'Entrevista: ‘O fascismo sempre tenta usar crises para alimentar a ideia de que você precisa de um líder forte’, diz Jason Stanley',\n",
       "  'description': 'O autor de ‘Como funciona o fascismo’ e professor de Yale explica como líderes distorcem crises – como o coronavírus – para fortalecer sua visão de mundo. The post Entrevista: ‘O fascismo sempre tenta usar crises para alimentar a ideia de que você precisa de …',\n",
       "  'url': 'https://theintercept.com/2020/03/27/coronavirus-jason-stanley-fascismo-crises/',\n",
       "  'urlToImage': 'https://theintercept.com/wp-uploads/sites/1/2020/03/stanley-redes-1584652573.jpg',\n",
       "  'publishedAt': '2020-03-27T04:05:29Z',\n",
       "  'content': 'O professor Jason Stanley\\r\\n foi a primeira pessoa que eu não cumprimentei com um aperto de mãos em muito, muito tempo. Nos encontramos na última sexta, 13, no Instituto Moreira Salles em São Paulo. Ele veio a convite da revista Serrote, que organizou o Festiv… [+3664 chars]'},\n",
       " {'source': {'id': None, 'name': 'Theintercept.com'},\n",
       "  'author': 'The Intercept Brasil',\n",
       "  'title': 'Ajude os mais vulneráveis na crise do coronavírus',\n",
       "  'description': 'Dezenas de organizações precisam urgentemente de sua ajuda. Eis como você pode ajudar. The post Ajude os mais vulneráveis na crise do coronavírus appeared first on The Intercept.',\n",
       "  'url': 'https://theintercept.com/2020/04/09/coronavirus-brasil-apoio-covid-mascara/',\n",
       "  'urlToImage': 'https://theintercept.com/wp-uploads/sites/1/2020/04/vilela-redes-2.jpg',\n",
       "  'publishedAt': '2020-04-09T17:33:47Z',\n",
       "  'content': 'Adaptar-se ao isolamento\\r\\n não é fácil para ninguém, mas os impactos do coronavírus não são iguais para todos. Quem tem “sorte” hoje é quem “apenas” precisa ficar em casa e continua recebendo seu salário. Mas sabemos que milhões de brasileiros sequer tem essa… [+43919 chars]'}]"
      ]
     },
     "execution_count": 5,
     "metadata": {},
     "output_type": "execute_result"
    }
   ],
   "source": [
    "#NEWS API - Api pro Google News\n",
    "#126614c036da4f5ba425e28b9b04b12b\n",
    "#import requests\n",
    "url = ('http://newsapi.org/v2/everything?'\n",
    "        'q=corona virus&'\n",
    "       'sortBy=popularity&'\n",
    "       'language=pt&'\n",
    "       'apiKey=126614c036da4f5ba425e28b9b04b12b')\n",
    "response = requests.get(url)\n",
    "res = response.json()\n",
    "print(res.keys())\n",
    "res[\"articles\"][0:2]"
   ]
  }
 ],
 "metadata": {
  "colab": {
   "name": "Leo.ipynb",
   "provenance": []
  },
  "kernelspec": {
   "display_name": "Python 3",
   "language": "python",
   "name": "python3"
  },
  "language_info": {
   "codemirror_mode": {
    "name": "ipython",
    "version": 3
   },
   "file_extension": ".py",
   "mimetype": "text/x-python",
   "name": "python",
   "nbconvert_exporter": "python",
   "pygments_lexer": "ipython3",
   "version": "3.7.3"
  }
 },
 "nbformat": 4,
 "nbformat_minor": 4
}
